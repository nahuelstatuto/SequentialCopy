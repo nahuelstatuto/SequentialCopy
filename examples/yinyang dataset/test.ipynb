{
 "cells": [
  {
   "cell_type": "code",
   "execution_count": 1,
   "id": "fe5514cf",
   "metadata": {},
   "outputs": [],
   "source": [
    "import pickle"
   ]
  },
  {
   "cell_type": "code",
   "execution_count": 7,
   "id": "98c14716",
   "metadata": {},
   "outputs": [
    {
     "name": "stdout",
     "output_type": "stream",
     "text": [
      "ListWrapper([20, 40])\n",
      "ListWrapper([0.45, 0.5])\n",
      "ListWrapper([0.58, 0.5711111111111111])\n",
      "ListWrapper([0.3847842961262059, 0.32865581970330116])\n",
      "ListWrapper([2.5, 1.25])\n"
     ]
    }
   ],
   "source": [
    "for name in ['n','acc_train','acc_test','rho','lmda']:\n",
    "    with open('results/'+name+'.pickle', \"rb\") as f:\n",
    "        data = pickle.load(f)\n",
    "    print(data)"
   ]
  }
 ],
 "metadata": {
  "kernelspec": {
   "display_name": "Python [conda env:.conda-hw_tf2.8]",
   "language": "python",
   "name": "conda-env-.conda-hw_tf2.8-py"
  },
  "language_info": {
   "codemirror_mode": {
    "name": "ipython",
    "version": 3
   },
   "file_extension": ".py",
   "mimetype": "text/x-python",
   "name": "python",
   "nbconvert_exporter": "python",
   "pygments_lexer": "ipython3",
   "version": "3.10.4"
  }
 },
 "nbformat": 4,
 "nbformat_minor": 5
}
